{
 "cells": [
  {
   "cell_type": "code",
   "execution_count": 1,
   "id": "7a859ff6-8643-4da0-ab42-8bbe39fc1fa3",
   "metadata": {},
   "outputs": [],
   "source": [
    "from astropy.io import fits"
   ]
  },
  {
   "cell_type": "code",
   "execution_count": 2,
   "id": "1a74fed4-ae9f-4807-9d07-f1cb21f649b1",
   "metadata": {},
   "outputs": [
    {
     "name": "stdout",
     "output_type": "stream",
     "text": [
      "Filename: WFI.2008-12-09T07_33_11.202.fits\n",
      "No.    Name      Ver    Type      Cards   Dimensions   Format\n",
      "  0  PRIMARY       1 PrimaryHDU     720   ()      \n",
      "  1  WIN1.CHIP1.OUT1    1 ImageHDU        52   (2142, 4128)   int16 (rescales to uint16)   \n",
      "  2  WIN1.CHIP2.OUT1    1 ImageHDU        52   (2142, 4128)   int16 (rescales to uint16)   \n",
      "  3  WIN1.CHIP3.OUT1    1 ImageHDU        52   (2142, 4128)   int16 (rescales to uint16)   \n",
      "  4  WIN1.CHIP4.OUT1    1 ImageHDU        52   (2142, 4128)   int16 (rescales to uint16)   \n",
      "  5  WIN1.CHIP8.OUT1    1 ImageHDU        52   (2142, 4128)   int16 (rescales to uint16)   \n",
      "  6  WIN1.CHIP7.OUT1    1 ImageHDU        52   (2142, 4128)   int16 (rescales to uint16)   \n",
      "  7  WIN1.CHIP6.OUT1    1 ImageHDU        52   (2142, 4128)   int16 (rescales to uint16)   \n",
      "  8  WIN1.CHIP5.OUT2    1 ImageHDU        52   (2142, 4128)   int16 (rescales to uint16)   \n"
     ]
    }
   ],
   "source": [
    "imageFile1='WFI.2008-12-09T07_33_11.202.fits'\n",
    "hdu_list = fits.open(imageFile1)\n",
    "hdu_list.info()"
   ]
  },
  {
   "cell_type": "code",
   "execution_count": 3,
   "id": "9515e666-1b7c-46da-88b7-77e6a29c85ab",
   "metadata": {},
   "outputs": [],
   "source": [
    "head = hdu_list[0].header"
   ]
  },
  {
   "cell_type": "code",
   "execution_count": 4,
   "id": "8297ca28-fda4-40c1-94e3-a416028e090e",
   "metadata": {},
   "outputs": [
    {
     "name": "stdout",
     "output_type": "stream",
     "text": [
      "2008-12-09T07:36:14.448\n",
      "M78\n",
      "179.9175\n"
     ]
    }
   ],
   "source": [
    "print(head['DATE'])\n",
    "print(head['OBJECT'])\n",
    "print(head['EXPTIME'])"
   ]
  },
  {
   "cell_type": "code",
   "execution_count": 6,
   "id": "8796190a-eb01-4a01-976c-afbb0828fc46",
   "metadata": {},
   "outputs": [
    {
     "data": {
      "text/plain": [
       "<matplotlib.image.AxesImage at 0x2b21fc516a0>"
      ]
     },
     "execution_count": 6,
     "metadata": {},
     "output_type": "execute_result"
    },
    {
     "data": {
      "image/png": "[encoded data removed]",
      "text/plain": [
       "<Figure size 288x576 with 1 Axes>"
      ]
     },
     "metadata": {
      "needs_background": "light"
     },
     "output_type": "display_data"
    }
   ],
   "source": [
    "import matplotlib.pyplot as plt\n",
    "from matplotlib.colors import LogNorm\n",
    "image =hdu_list[3].data\n",
    "fig, ax= plt.subplots(1,1, figsize=(4, 8))\n",
    "ax.imshow(image, cmap='gray', norm=LogNorm(),origin='lower')"
   ]
  },
  {
   "cell_type": "code",
   "execution_count": null,
   "id": "668107f5-0ee0-4d88-97e1-c784216a6398",
   "metadata": {},
   "outputs": [],
   "source": [
    "import numpy as np\n",
    "print(np.min(image),np.mean(image),np.max(image),np.std(image))\n",
    "print(np.quantile(image,[0.005,0.01,0.5,0.99,0.995]))"
   ]
  },
  {
   "cell_type": "code",
   "execution_count": null,
   "id": "0fe16685-19c6-4fc8-9f9c-8b6a88d9f8ac",
   "metadata": {},
   "outputs": [],
   "source": [
    "import astropy.io.ascii as ascii\n",
    "data = ascii.read('HD40307_HARPS03_DRS-3-5.rdb',data_start=2)\n",
    "data"
   ]
  },
  {
   "cell_type": "code",
   "execution_count": null,
   "id": "ad1dbe10-3351-4dc5-b51a-5a90e566263b",
   "metadata": {},
   "outputs": [],
   "source": [
    "data.keys()"
   ]
  },
  {
   "cell_type": "code",
   "execution_count": null,
   "id": "0437e6e8-fbb9-444b-ace9-810034926fb9",
   "metadata": {},
   "outputs": [],
   "source": [
    "data['rjd']"
   ]
  },
  {
   "cell_type": "code",
   "execution_count": null,
   "id": "474cb244-9a06-421e-959a-e884a505a7d5",
   "metadata": {},
   "outputs": [],
   "source": [
    "for i in range(len(data['rjd'])):\n",
    " print('%10.4f %10.4f %10.4f'%(data['rjd'][i],data['vrad'][i],data['svrad'][i]))"
   ]
  },
  {
   "cell_type": "code",
   "execution_count": null,
   "id": "de735d37-c44a-427c-a906-58c00ccc96fe",
   "metadata": {},
   "outputs": [],
   "source": [
    "import matplotlib.pyplot as plt\n",
    "fig, ax= plt.subplots(1,1, figsize=(12, 6), sharex=True)\n",
    "ax.plot(data['rjd'], data['vrad'],'.',color='blue')\n",
    "ax.errorbar(data['rjd'], data['vrad'], yerr=data['svrad'],fmt='none',color='blue')\n",
    "ax.axhline(np.median(data['vrad']),linestyle='dashed')"
   ]
  },
  {
   "cell_type": "code",
   "execution_count": null,
   "id": "8d453533-3158-4090-8daa-4df59d52dcf7",
   "metadata": {},
   "outputs": [],
   "source": [
    "import matplotlib.pyplot as plt\n",
    "fig, ax= plt.subplots(1,1, figsize=(6, 6))\n",
    "ax.plot(data['rhk'], data['vrad'],'.',color='blue')\n",
    "ax.axhline(np.median(data['rhk']),linestyle='dashed')\n",
    "ax.axvline(np.median(data['vrad']),linestyle='dashed')"
   ]
  },
  {
   "cell_type": "code",
   "execution_count": null,
   "id": "ba928da9-babe-4771-9201-0460e6ee1c42",
   "metadata": {},
   "outputs": [],
   "source": [
    "print(np.min(data['vrad']),np.mean(data['vrad']),np.max(data['vrad']),np.std(data['vrad']))\n",
    "print(np.quantile(data['vrad'],[0.005,0.01,0.5,0.99,0.995]))"
   ]
  },
  {
   "cell_type": "code",
   "execution_count": null,
   "id": "0056d372-8867-43b0-90d0-67acfcc4dc3d",
   "metadata": {},
   "outputs": [],
   "source": []
  }
 ],
 "metadata": {
  "kernelspec": {
   "display_name": "Python 3",
   "language": "python",
   "name": "python3"
  },
  "language_info": {
   "codemirror_mode": {
    "name": "ipython",
    "version": 3
   },
   "file_extension": ".py",
   "mimetype": "text/x-python",
   "name": "python",
   "nbconvert_exporter": "python",
   "pygments_lexer": "ipython3",
   "version": "3.8.8"
  }
 },
 "nbformat": 4,
 "nbformat_minor": 5
}
